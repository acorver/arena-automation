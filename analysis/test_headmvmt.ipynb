{
 "cells": [
  {
   "cell_type": "code",
   "execution_count": 33,
   "metadata": {
    "collapsed": false
   },
   "outputs": [],
   "source": [
    "\n",
    "import os\n",
    "from postprocessing.util import *\n",
    "import pandas as pd\n",
    "import scipy\n",
    "from scipy.stats import gaussian_kde\n",
    "from scipy.signal import argrelextrema\n",
    "import seaborn as sns\n",
    "import matplotlib as mpl\n",
    "import matplotlib.animation as mpl_animation\n",
    "import matplotlib.pyplot as plt\n",
    "from mpl_toolkits.mplot3d import Axes3D\n",
    "\n",
    "MAX_HEADMARKER_DIST = 25\n",
    "SEGMENT_BINSIZE     = 0.25\n",
    "DEBUG               = False\n",
    "\n",
    "# Change working directory\n",
    "os.chdir('Z:/people/Abel/perching-analysis/data/')\n",
    "\n",
    "%matplotlib inline"
   ]
  },
  {
   "cell_type": "code",
   "execution_count": 2,
   "metadata": {
    "collapsed": true
   },
   "outputs": [],
   "source": [
    "file = '2016-11-14 14-09-32_Cortex.msgpack'"
   ]
  },
  {
   "cell_type": "code",
   "execution_count": 3,
   "metadata": {
    "collapsed": false
   },
   "outputs": [
    {
     "name": "stdout",
     "output_type": "stream",
     "text": [
      "Determining number of records\n",
      "Total number of records: 4448565\n"
     ]
    },
    {
     "data": {
      "text/plain": [
       "4448565"
      ]
     },
     "execution_count": 3,
     "metadata": {},
     "output_type": "execute_result"
    }
   ],
   "source": [
    "countRecords(file)"
   ]
  },
  {
   "cell_type": "code",
   "execution_count": 52,
   "metadata": {
    "collapsed": false
   },
   "outputs": [
    {
     "name": "stdout",
     "output_type": "stream",
     "text": [
      "100000\n",
      "300000\n",
      "400000\n",
      "500000\n",
      "600000\n",
      "700000\n",
      "800000\n",
      "900000\n",
      "1000000\n"
     ]
    }
   ],
   "source": [
    "pairwiseDsts = []\n",
    "frameids = []\n",
    "for frame in readYFrames(file, nearbyVertexRange=MAX_HEADMARKER_DIST):\n",
    "    if (frame.frame%100000)==0:\n",
    "        print(frame.frame)\n",
    "    frameids.append(frame.frame)\n",
    "    # Is this frame in a perching range?\n",
    "    for c in frame.nearbyVertices:\n",
    "        # Compute all pairwise distances\n",
    "        for i1 in range(len(frame.nearbyVertices)):\n",
    "            for i2 in range(len(frame.nearbyVertices)):\n",
    "                if i1 > i2:\n",
    "                    pairwiseDsts.append( np.linalg.norm(frame.nearbyVertices[i1] - frame.nearbyVertices[i2]) )\n",
    "    if (frame.frame>1000000): \n",
    "        break\n"
   ]
  },
  {
   "cell_type": "code",
   "execution_count": 61,
   "metadata": {
    "collapsed": false
   },
   "outputs": [
    {
     "data": {
      "text/plain": [
       "(3721570, 2731160)"
      ]
     },
     "execution_count": 61,
     "metadata": {},
     "output_type": "execute_result"
    }
   ],
   "source": [
    "pw = np.array([x for x in pairwiseDsts if x < 10])\n",
    "len(pairwiseDsts), len(pw)"
   ]
  },
  {
   "cell_type": "code",
   "execution_count": 86,
   "metadata": {
    "collapsed": false
   },
   "outputs": [],
   "source": [
    "hist = np.histogram(pw, bins=int(max(pw)/SEGMENT_BINSIZE))"
   ]
  },
  {
   "cell_type": "code",
   "execution_count": 87,
   "metadata": {
    "collapsed": false
   },
   "outputs": [
    {
     "data": {
      "text/plain": [
       "[<matplotlib.lines.Line2D at 0xf03d1d0>]"
      ]
     },
     "execution_count": 87,
     "metadata": {},
     "output_type": "execute_result"
    },
    {
     "data": {
      "image/png": "[encoded data removed]",
      "text/plain": [
       "<matplotlib.figure.Figure at 0xf0af7b8>"
      ]
     },
     "metadata": {},
     "output_type": "display_data"
    }
   ],
   "source": [
    "plt.plot(hist[1][1:], hist[0])"
   ]
  },
  {
   "cell_type": "code",
   "execution_count": 82,
   "metadata": {
    "collapsed": false
   },
   "outputs": [
    {
     "data": {
      "text/plain": [
       "884919"
      ]
     },
     "execution_count": 82,
     "metadata": {},
     "output_type": "execute_result"
    }
   ],
   "source": [
    "numframes = len(set(frameids))\n",
    "numframes"
   ]
  },
  {
   "cell_type": "code",
   "execution_count": 97,
   "metadata": {
    "collapsed": false
   },
   "outputs": [
    {
     "data": {
      "text/plain": [
       "[5.414187074809945]"
      ]
     },
     "execution_count": 97,
     "metadata": {},
     "output_type": "execute_result"
    }
   ],
   "source": [
    "lm = [0.5*(hist[1][i]+hist[1][i+2]) for i in argrelextrema(hist[0], np.greater)[0] if hist[0][i]>numframes]\n",
    "lm"
   ]
  },
  {
   "cell_type": "code",
   "execution_count": 98,
   "metadata": {
    "collapsed": false
   },
   "outputs": [
    {
     "data": {
      "image/png": "[encoded data removed]",
      "text/plain": [
       "<matplotlib.figure.Figure at 0xa734160>"
      ]
     },
     "metadata": {},
     "output_type": "display_data"
    }
   ],
   "source": [
    "plt.plot(hist[1][1:], hist[0])\n",
    "for l in lm:\n",
    "    plt.axvline(x=l, color='k', linestyle='--')"
   ]
  },
  {
   "cell_type": "code",
   "execution_count": null,
   "metadata": {
    "collapsed": true
   },
   "outputs": [],
   "source": []
  }
 ],
 "metadata": {
  "kernelspec": {
   "display_name": "Python [Root]",
   "language": "python",
   "name": "Python [Root]"
  },
  "language_info": {
   "codemirror_mode": {
    "name": "ipython",
    "version": 3
   },
   "file_extension": ".py",
   "mimetype": "text/x-python",
   "name": "python",
   "nbconvert_exporter": "python",
   "pygments_lexer": "ipython3",
   "version": "3.5.2"
  }
 },
 "nbformat": 4,
 "nbformat_minor": 0
}
