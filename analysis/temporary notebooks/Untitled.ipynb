{
 "cells": [
  {
   "cell_type": "code",
   "execution_count": 5,
   "metadata": {
    "collapsed": true
   },
   "outputs": [],
   "source": [
    "import os, shutil, math, dateutil, datetime\n",
    "from distutils import dir_util\n",
    "import numpy as np\n",
    "import pandas as pd\n",
    "import seaborn as sns\n",
    "import matplotlib as mpl\n",
    "import matplotlib.animation as mpl_animation\n",
    "import matplotlib.pyplot as plt\n",
    "from mpl_toolkits.mplot3d import Axes3D\n",
    "from vispy import app, gloo, scene\n",
    "import vispy.visuals, vispy.scene, vispy.scene.visuals\n",
    "from vispy.color import Color\n",
    "import imageio\n",
    "from jinja2 import Environment, FileSystemLoader\n",
    "\n",
    "from vispy.testing import run_tests_if_main\n",
    "from vispy.app import set_interactive\n",
    "from vispy.ext.ipy_inputhook import inputhook_manager"
   ]
  },
  {
   "cell_type": "code",
   "execution_count": 6,
   "metadata": {
    "collapsed": true
   },
   "outputs": [],
   "source": [
    "set_interactive(enabled=True)"
   ]
  },
  {
   "cell_type": "code",
   "execution_count": 7,
   "metadata": {
    "collapsed": true
   },
   "outputs": [],
   "source": [
    "file = '2016-11-15 16-49-11_Cortex.msgpack'\n",
    "\n",
    "DIR_REPORTS         = './reports/'\n",
    "DIR_DATA            = './data/'\n",
    "IMG_DPI             = 200\n",
    "PLOT_APPEND_BEFORE  = 25\n",
    "PLOT_APPEND_AFTER   = 200\n",
    "RENDER_SIZE_3D      = (2800, 1400)\n",
    "\n",
    "PLOT_TRAJECTORIES_3D_NUMFRAMES = 50"
   ]
  },
  {
   "cell_type": "code",
   "execution_count": 8,
   "metadata": {
    "collapsed": true
   },
   "outputs": [],
   "source": [
    "# Select yframe frames\n",
    "dataDf    = pd.read_csv('data/'+file.replace('.msgpack','.tracking.csv'))\n",
    "dataDf['takeoffFrame'] = dataDf['relframe'] # TMP #"
   ]
  },
  {
   "cell_type": "code",
   "execution_count": 9,
   "metadata": {
    "collapsed": false
   },
   "outputs": [
    {
     "name": "stderr",
     "output_type": "stream",
     "text": [
      "C:\\Anaconda3\\lib\\site-packages\\IPython\\config.py:13: ShimWarning: The `IPython.config` package has been deprecated. You should import from traitlets.config instead.\n",
      "  \"You should import from traitlets.config instead.\", ShimWarning)\n"
     ]
    }
   ],
   "source": [
    "# Plot yframe data\n",
    "canvas = vispy.scene.SceneCanvas(keys='interactive', show=True, size=RENDER_SIZE_3D)\n",
    "grid = canvas.central_widget.add_grid(spacing=10)\n",
    "widget_1 = grid.add_widget(row=0, col=0)\n",
    "widget_2 = grid.add_widget(row=0, col=1)\n",
    "widget_1.bgcolor = \"#222\"\n",
    "widget_2.bgcolor = \"#222\"\n",
    "\n",
    "view = widget_2.add_view()\n",
    "view.bgcolor = '#222'\n",
    "view.camera = 'turntable'\n",
    "view.camera.fov = 0\n",
    "view.camera.elevation = 45\n",
    "view.camera.distance = 800\n",
    "view.camera.azimuth = 0\n",
    "\n",
    "vispy.scene.visuals.Markers(\n",
    "    pos=dataDf.as_matrix(['x','y','z']),\n",
    "    edge_color=Color('#fff'), \n",
    "    face_color=Color('#fff'),\n",
    "    size=4,\n",
    "    parent=view.scene)\n",
    "view.add(scene.visuals.GridLines()) #color=(0, 0, 0, 0.5)))\n",
    "#view.add(scene.visuals.XYZAxis())\n",
    "\n",
    "app.run()"
   ]
  },
  {
   "cell_type": "code",
   "execution_count": null,
   "metadata": {
    "collapsed": true
   },
   "outputs": [],
   "source": [
    "writer = imageio.get_writer('animation.mp4')\n",
    "for i in range(PLOT_TRAJECTORIES_3D_NUMFRAMES):\n",
    "    im = canvas.render()\n",
    "    writer.append_data(im)\n",
    "    view.camera.azimuth = \\\n",
    "        60*i/PLOT_TRAJECTORIES_3D_NUMFRAMES\n",
    "writer.close()\n",
    "\n",
    "# Close figure in order to release memory\n",
    "gc.collect()"
   ]
  }
 ],
 "metadata": {
  "anaconda-cloud": {},
  "kernelspec": {
   "display_name": "Python [Root]",
   "language": "python",
   "name": "Python [Root]"
  },
  "language_info": {
   "codemirror_mode": {
    "name": "ipython",
    "version": 3.0
   },
   "file_extension": ".py",
   "mimetype": "text/x-python",
   "name": "python",
   "nbconvert_exporter": "python",
   "pygments_lexer": "ipython3",
   "version": "3.5.2"
  }
 },
 "nbformat": 4,
 "nbformat_minor": 0
}