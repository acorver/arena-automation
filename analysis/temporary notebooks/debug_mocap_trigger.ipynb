{
 "cells": [
  {
   "cell_type": "code",
   "execution_count": null,
   "metadata": {
    "collapsed": true
   },
   "outputs": [],
   "source": [
    "import os, sys\n",
    "sys.path.insert(0, \"Z:/people/Abel/arena-automation/analysis/\")\n",
    "\n",
    "from postprocessing import extract_mocap_trigger\n",
    "from shared import util\n",
    "\n",
    "import pandas as pd, numpy as np\n",
    "from ggplot import *\n",
    "%matplotlib inline\n",
    "\n",
    "import imp; imp.reload(extract_mocap_trigger); imp.reload(util)\n",
    "\n",
    "fname = 'Z:/people/Abel/arena-automation/data/2017-06-21/2017-06-21.raw.msgpack'\n",
    "td = []\n",
    "for camID in [8,11]:\n",
    "    startFrame = 1954655\n",
    "    tbs = [(f.frameID, extract_mocap_trigger.findTriggerBoxInFrame(f, camID, spacing=35)[0]) for f in \n",
    "          util.iterMocapFrames(fname, startFrame=startFrame-10, numFrames=20)]\n",
    "    for i, tb in tbs:\n",
    "        if tb is None: continue\n",
    "        for x in ['c1','c2','c3']:\n",
    "            td.append([camID, i, 'syncbox'] + tb[x].tolist())\n",
    "        for c in tb['additionalPts']:\n",
    "            td.append([camID, i, 'additionalpt'] + c.tolist())\n",
    "\n",
    "td = pd.DataFrame(td, columns=['camID','frame','type','x','y'])\n",
    "td.head()\n",
    "\n",
    "p = ggplot(td, aes(x='x',y='y',colour='type')) + \\\n",
    "    scale_color_brewer(type='qual', palette=2) + \\\n",
    "    geom_point() + facet_grid(\"frame\",\"camID\", scales=\"free\")\n",
    "t = theme_gray()\n",
    "t._rcParams['figure.figsize'] = (4 * 4,20 * 2.2)\n",
    "p + t\n"
   ]
  },
  {
   "cell_type": "code",
   "execution_count": null,
   "metadata": {},
   "outputs": [],
   "source": [
    "1+1"
   ]
  }
 ],
 "metadata": {
  "kernelspec": {
   "display_name": "Python 2",
   "language": "python",
   "name": "python2"
  },
  "language_info": {
   "codemirror_mode": {
    "name": "ipython",
    "version": 2.0
   },
   "file_extension": ".py",
   "mimetype": "text/x-python",
   "name": "python",
   "nbconvert_exporter": "python",
   "pygments_lexer": "ipython2",
   "version": "2.7.6"
  }
 },
 "nbformat": 4,
 "nbformat_minor": 0
}